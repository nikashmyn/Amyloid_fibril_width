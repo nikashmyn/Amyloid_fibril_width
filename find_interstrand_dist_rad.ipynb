{
 "cells": [
  {
   "cell_type": "markdown",
   "metadata": {},
   "source": [
    "    # Strand to Strand Distance vs Radius"
   ]
  },
  {
   "cell_type": "markdown",
   "metadata": {},
   "source": [
    "### Imports"
   ]
  },
  {
   "cell_type": "code",
   "execution_count": 4,
   "metadata": {},
   "outputs": [],
   "source": [
    "import pandas as pd\n",
    "import numpy as np\n",
    "import matplotlib.pyplot as plt\n",
    "import os\n",
    "import csv\n",
    "import time\n",
    "import sys\n",
    "from collections import Counter\n",
    "plt.style.use('seaborn-notebook')\n",
    "plt.style.use('seaborn-whitegrid')"
   ]
  },
  {
   "cell_type": "markdown",
   "metadata": {},
   "source": [
    "#Read in cmd line args"
   ]
  },
  {
   "cell_type": "code",
   "execution_count": 5,
   "metadata": {},
   "outputs": [],
   "source": [
    "args = sys.argv\n",
    "#args: script name, /path/to/.pdb, outfile path\n",
    "args = [\"script name\", \"/Users/davidboyer/Dropbox/Tau_Project_EISENBERG_LAB/amyloid_width/fixed_pdbs/6ufr_origin_5layers.pdb\", \"/Users/davidboyer/Dropbox/Tau_Project_EISENBERG_LAB/amyloid_width/python/temp_output/\"]"
   ]
  },
  {
   "cell_type": "markdown",
   "metadata": {},
   "source": [
    "### Functions"
   ]
  },
  {
   "cell_type": "code",
   "execution_count": 13,
   "metadata": {},
   "outputs": [],
   "source": [
    "def get_file_length(input_file):\n",
    "    with open(input_file) as f:\n",
    "        for i, l in enumerate(f):\n",
    "            pass\n",
    "    return i + 1\n",
    "\n",
    "def read_in_pdb(path):\n",
    "    input_file = open(f'{path}','r')\n",
    "    file_length = get_file_length(f'{path}')\n",
    "    atom = []\n",
    "    atomno = []\n",
    "    nama = []\n",
    "    resn = []\n",
    "    chainid = []\n",
    "    resida = []\n",
    "    xa = []\n",
    "    ya = []\n",
    "    za = []\n",
    "    occup = []\n",
    "    tempf = []\n",
    "    elem = []\n",
    "    charge = []\n",
    "    for lines in range(file_length):\n",
    "        line = input_file.readline()\n",
    "        if line[0:4] == 'ATOM':\n",
    "            atom.append(line[0:6])\n",
    "            atomno.append(line[6:11])\n",
    "            nama.append(line[12:17])\n",
    "            resn.append(line[17:20])\n",
    "            chainid.append(line[21:22])\n",
    "            resida.append(int(line[22:26]))\n",
    "            xa.append(float(line[30:38]))\n",
    "            ya.append(float(line[38:46]))\n",
    "            za.append(float(line[46:54]))\n",
    "            occup.append(line[54:60])\n",
    "            tempf.append(line[60:66])\n",
    "            elem.append(line[76:78])\n",
    "            charge.append(line[78:80])\n",
    "    d = {'Atom': atom, 'Atom Number': atomno, 'Atom Name': nama, 'Residue Name': resn, 'Chain ID': chainid, 'Residue Number': resida, 'X': xa, 'Y': ya, 'Z': za, 'Occupancy': occup, 'Temperature Factor': tempf, 'Element': elem, 'Charge': charge} \n",
    "    df = pd.DataFrame(d)\n",
    "    input_file.close()\n",
    "    return df"
   ]
  },
  {
   "cell_type": "markdown",
   "metadata": {},
   "source": [
    "### Read-in from .pdb"
   ]
  },
  {
   "cell_type": "code",
   "execution_count": 38,
   "metadata": {},
   "outputs": [],
   "source": [
    "filename =  args[1]\n",
    "sample_name = args[1].split(\"/\")[-1][0:4]\n",
    "outpath = args[2]\n",
    "make_outpath = f\" mkdir -p {outpath} \"\n",
    "os.system(make_outpath)\n",
    "df = read_in_pdb(filename)"
   ]
  },
  {
   "cell_type": "markdown",
   "metadata": {},
   "source": [
    "### Calculations (Radius, Interstrand Distance)"
   ]
  },
  {
   "cell_type": "code",
   "execution_count": 30,
   "metadata": {},
   "outputs": [],
   "source": [
    "#Get a list of the Chain IDs\n",
    "temp = ['poop']\n",
    "all_chain_IDs = [] \n",
    "num_chains = 0\n",
    "num_atm_chn = 0\n",
    "for i in df['Chain ID']:\n",
    "    if temp != i:\n",
    "        all_chain_IDs.append(i)\n",
    "        temp = i\n",
    "        num_chains += 1\n",
    "        num_atm_chn = 0\n",
    "    if temp == i:\n",
    "        num_atm_chn += 1"
   ]
  },
  {
   "cell_type": "code",
   "execution_count": 34,
   "metadata": {},
   "outputs": [],
   "source": [
    "#Calculate centers of mass for each chain\n",
    "chainid, xa, ya, za = np.array(df['Chain ID']), np.array(df['X']), np.array(df['Y']), np.array(df['Z'])\n",
    "length = len(chainid)\n",
    "comx, comy, comz = [], [], []\n",
    "for i in range(num_chains):\n",
    "    sumx=0\n",
    "    sumy=0\n",
    "    sumz=0\n",
    "    for j in range(length):\n",
    "        if chainid[j] == all_chain_IDs[i]:\n",
    "            sumx += (xa[j])\n",
    "            sumy += (ya[j])\n",
    "            sumz += (za[j])\n",
    "    comx.append(sumx/num_atm_chn)\n",
    "    comy.append(sumy/num_atm_chn)\n",
    "    comz.append(sumz/num_atm_chn)"
   ]
  },
  {
   "cell_type": "code",
   "execution_count": 35,
   "metadata": {},
   "outputs": [
    {
     "name": "stdout",
     "output_type": "stream",
     "text": [
      "A D\n",
      "B C\n",
      "C F\n",
      "D E\n",
      "E H\n",
      "F G\n",
      "G J\n",
      "H I\n"
     ]
    }
   ],
   "source": [
    "#Calculate all interstrand distances\n",
    "resida, nama, resn = np.array(df['Residue Number']), np.array(df['Atom Name']), np.array(df['Residue Name'])\n",
    "dist = []\n",
    "radius = []\n",
    "chain_ID_1 = []\n",
    "chain_ID_2 = []\n",
    "residue_number_12 = []\n",
    "residue_name_12 = []\n",
    "atom_name_12 = []\n",
    "#start = time.time()\n",
    "for i in range(num_chains):\n",
    "    for j in range(i+1,num_chains):\n",
    "        diffcomx=comx[i]-comx[j]\n",
    "        diffcomy=comy[i]-comy[j]\n",
    "        diffcomz=comz[i]-comz[j]\n",
    "        diffcom=np.sqrt(diffcomx**2+diffcomy**2+diffcomz**2)\n",
    "        if diffcom>0 and diffcom<5.2:\n",
    "            print(all_chain_IDs[i],all_chain_IDs[j])\n",
    "            for k in range(length):\n",
    "                for l in range(length):\n",
    "                    if resida[k]==resida[l] and nama[k]==nama[l] and resn[k]==resn[l] and chainid[k]==all_chain_IDs[i] and chainid[l]==all_chain_IDs[j]:\n",
    "                        xak, xal, yak, yal, zak, zal = xa[k], xa[l], ya[k], ya[l], za[k], za[l]\n",
    "                        disttemp = np.sqrt((xak-xal)**2+(yak-yal)**2+(zak-zal)**2)\n",
    "                        dist.append(disttemp)\n",
    "                        radius.append(np.sqrt(((xak**2+((yak)**2)))))\n",
    "                        chain_ID_1.append(chainid[k])\n",
    "                        chain_ID_2.append(chainid[l])\n",
    "                        residue_number_12.append(resida[k])\n",
    "                        atom_name_12.append(nama[k])\n",
    "                        residue_name_12.append(resn[k])\n",
    "#elapsed_time_fl = (time.time() - start)\n",
    "#print(elapsed_time_fl)"
   ]
  },
  {
   "cell_type": "code",
   "execution_count": 36,
   "metadata": {},
   "outputs": [],
   "source": [
    "#Calculate average interstrand distances\n",
    "distavg=[]\n",
    "radiusavg=[]\n",
    "for i in range(num_atm_chn):\n",
    "    matches=1\n",
    "    distsum=dist[i]\n",
    "    radiussum=radius[i]\n",
    "    for j in range(num_atm_chn+1,len(dist)):\n",
    "        if residue_name_12[i]==residue_name_12[j] and atom_name_12[i]==atom_name_12[j] and residue_number_12[i]==residue_number_12[j]:\n",
    "            matches=matches+1\n",
    "            distsum=dist[j]+distsum\n",
    "            radiussum=radius[j]+radiussum\n",
    "    distavg.append(distsum/matches)\n",
    "    radiusavg.append(radiussum/matches)    \n",
    "    "
   ]
  },
  {
   "cell_type": "code",
   "execution_count": 40,
   "metadata": {},
   "outputs": [],
   "source": [
    "#Save radius, interstrand distance\n",
    "with open(f'{outpath}{sample_name}' + str(\"_rad_dist.csv\"),'w') as csv_file:\n",
    "    csv_writer = csv.writer(csv_file)\n",
    "    for i in range(len(distavg)):\n",
    "        row = [radius[i],distavg[i],chain_ID_1[i],chain_ID_2[i],atom_name_12[i],residue_name_12[i],residue_number_12[i],filename[0:4]]\n",
    "        csv_writer.writerow(row)"
   ]
  },
  {
   "cell_type": "markdown",
   "metadata": {},
   "source": [
    "### Graph Interstrand Distance versus Radius"
   ]
  },
  {
   "cell_type": "code",
   "execution_count": 42,
   "metadata": {},
   "outputs": [
    {
     "data": {
      "text/plain": [
       "<matplotlib.collections.PathCollection at 0x124929a60>"
      ]
     },
     "execution_count": 42,
     "metadata": {},
     "output_type": "execute_result"
    },
    {
     "data": {
      "image/png": "[encoded data removed]",
      "text/plain": [
       "<Figure size 576x396 with 1 Axes>"
      ]
     },
     "metadata": {},
     "output_type": "display_data"
    }
   ],
   "source": [
    "data=open(f'{outpath}{sample_name}' + str(\"_rad_dist.csv\"))\n",
    "\n",
    "data = np.genfromtxt(f'{outpath}{sample_name}' + str(\"_rad_dist.csv\"), delimiter=\",\", names=[\"radius\", \"distance\"])\n",
    "\n",
    "plt.figure(1)\n",
    "plt.scatter(data['radius'], data['distance'])"
   ]
  }
 ],
 "metadata": {
  "kernelspec": {
   "display_name": "Python 3",
   "language": "python",
   "name": "python3"
  },
  "language_info": {
   "codemirror_mode": {
    "name": "ipython",
    "version": 3
   },
   "file_extension": ".py",
   "mimetype": "text/x-python",
   "name": "python",
   "nbconvert_exporter": "python",
   "pygments_lexer": "ipython3",
   "version": "3.8.3"
  }
 },
 "nbformat": 4,
 "nbformat_minor": 4
}
