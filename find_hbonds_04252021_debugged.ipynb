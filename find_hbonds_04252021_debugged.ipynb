{
 "cells": [
  {
   "cell_type": "markdown",
   "metadata": {},
   "source": [
    "# Find h-bonds"
   ]
  },
  {
   "cell_type": "markdown",
   "metadata": {},
   "source": [
    "### Imports"
   ]
  },
  {
   "cell_type": "code",
   "execution_count": 2,
   "metadata": {},
   "outputs": [],
   "source": [
    "import pandas as pd\n",
    "import numpy as np\n",
    "import matplotlib.pyplot as plt\n",
    "import scipy.optimize as sp\n",
    "import os\n",
    "import csv\n",
    "import time\n",
    "import ast\n",
    "plt.style.use('seaborn-notebook')\n",
    "plt.style.use('seaborn-whitegrid')"
   ]
  },
  {
   "cell_type": "markdown",
   "metadata": {},
   "source": [
    "### Functions"
   ]
  },
  {
   "cell_type": "markdown",
   "metadata": {},
   "source": [
    "$ \\alpha = arccos( \\frac{ ( V_1 \\times V_2 ) \\hspace{.1cm} \\cdot \\hspace{.1cm} ( V_2 \\times V_3 ) }{\\lvert V_1 \\times V_2 \\rvert \\hspace{.1cm} \\cdot \\hspace{.1cm} \\lvert V_2 \\times V_3 \\rvert} ) \\hspace{.5cm}$\n",
    "$V_n = (P_n \\times P_{n+1})$"
   ]
  },
  {
   "cell_type": "markdown",
   "metadata": {},
   "source": [
    "If the vectors u = (u1, u2, u3), v = (v1, v2, v3) and w = (w1, w2, w3) are vectors in 3-space with the\n",
    "same initial point,\n",
    "\n",
    "then they lie in the same plane if and only if\n",
    "\n",
    "u(v x w) = 0"
   ]
  },
  {
   "cell_type": "code",
   "execution_count": 3,
   "metadata": {},
   "outputs": [],
   "source": [
    "def get_file_length(input_file):\n",
    "    with open(input_file) as f:\n",
    "        for i, l in enumerate(f):\n",
    "            pass\n",
    "    return i + 1\n",
    "\n",
    "def calc_dihedral(p1, p2, p3, p4):\n",
    "    \n",
    "    #get vectors from atom coordinates\n",
    "    v1 = p2 - p1\n",
    "    v2 = p3 - p2\n",
    "    v3 = p4 - p3\n",
    "\n",
    "    #cross vectors and normalize terms \n",
    "    c1 = np.cross(v1, v2)\n",
    "    c1 = c1 / (c1 * c1).sum(-1)**0.5\n",
    "    c2 = np.cross(v2, v3)\n",
    "    c2 = c2 / (c2 * c2).sum(-1)**0.5\n",
    "    \n",
    "    #plug terms and get dihedral angle\n",
    "    rad = np.arccos((c1*c2).sum(-1) / ((c1**2).sum(-1) * (c2**2).sum(-1))**0.5)\n",
    "    \n",
    "    #corrects sign if orthogonal vectors\n",
    "    porm = np.sign((c1 * v3).sum(-1))\n",
    "    if not porm == 0:\n",
    "        rad = rad * porm\n",
    "\n",
    "    return rad"
   ]
  },
  {
   "cell_type": "markdown",
   "metadata": {},
   "source": [
    "### Read-in from .pdb"
   ]
  },
  {
   "cell_type": "code",
   "execution_count": 17,
   "metadata": {},
   "outputs": [
    {
     "data": {
      "text/html": [
       "<div>\n",
       "<style scoped>\n",
       "    .dataframe tbody tr th:only-of-type {\n",
       "        vertical-align: middle;\n",
       "    }\n",
       "\n",
       "    .dataframe tbody tr th {\n",
       "        vertical-align: top;\n",
       "    }\n",
       "\n",
       "    .dataframe thead th {\n",
       "        text-align: right;\n",
       "    }\n",
       "</style>\n",
       "<table border=\"1\" class=\"dataframe\">\n",
       "  <thead>\n",
       "    <tr style=\"text-align: right;\">\n",
       "      <th></th>\n",
       "      <th>Atom</th>\n",
       "      <th>Atom Number</th>\n",
       "      <th>Atom Name</th>\n",
       "      <th>Residue Name</th>\n",
       "      <th>Chain ID</th>\n",
       "      <th>Residue Number</th>\n",
       "      <th>X</th>\n",
       "      <th>Y</th>\n",
       "      <th>Z</th>\n",
       "      <th>Occupancy</th>\n",
       "      <th>Q_score</th>\n",
       "      <th>Element</th>\n",
       "      <th>Charge</th>\n",
       "    </tr>\n",
       "  </thead>\n",
       "  <tbody>\n",
       "    <tr>\n",
       "      <th>0</th>\n",
       "      <td>ATOM</td>\n",
       "      <td>1</td>\n",
       "      <td>N</td>\n",
       "      <td>ASP</td>\n",
       "      <td>A</td>\n",
       "      <td>1</td>\n",
       "      <td>39.605</td>\n",
       "      <td>7.967</td>\n",
       "      <td>6.710</td>\n",
       "      <td>1.00</td>\n",
       "      <td>103.79</td>\n",
       "      <td>N</td>\n",
       "      <td>\\n</td>\n",
       "    </tr>\n",
       "    <tr>\n",
       "      <th>1</th>\n",
       "      <td>ATOM</td>\n",
       "      <td>2</td>\n",
       "      <td>CA</td>\n",
       "      <td>ASP</td>\n",
       "      <td>A</td>\n",
       "      <td>1</td>\n",
       "      <td>38.587</td>\n",
       "      <td>8.767</td>\n",
       "      <td>6.040</td>\n",
       "      <td>1.00</td>\n",
       "      <td>103.79</td>\n",
       "      <td>C</td>\n",
       "      <td>\\n</td>\n",
       "    </tr>\n",
       "    <tr>\n",
       "      <th>2</th>\n",
       "      <td>ATOM</td>\n",
       "      <td>3</td>\n",
       "      <td>C</td>\n",
       "      <td>ASP</td>\n",
       "      <td>A</td>\n",
       "      <td>1</td>\n",
       "      <td>37.700</td>\n",
       "      <td>9.505</td>\n",
       "      <td>7.034</td>\n",
       "      <td>1.00</td>\n",
       "      <td>103.79</td>\n",
       "      <td>C</td>\n",
       "      <td>\\n</td>\n",
       "    </tr>\n",
       "    <tr>\n",
       "      <th>3</th>\n",
       "      <td>ATOM</td>\n",
       "      <td>4</td>\n",
       "      <td>O</td>\n",
       "      <td>ASP</td>\n",
       "      <td>A</td>\n",
       "      <td>1</td>\n",
       "      <td>37.942</td>\n",
       "      <td>9.464</td>\n",
       "      <td>8.232</td>\n",
       "      <td>1.00</td>\n",
       "      <td>103.79</td>\n",
       "      <td>O</td>\n",
       "      <td>\\n</td>\n",
       "    </tr>\n",
       "    <tr>\n",
       "      <th>4</th>\n",
       "      <td>ATOM</td>\n",
       "      <td>5</td>\n",
       "      <td>CB</td>\n",
       "      <td>ASP</td>\n",
       "      <td>A</td>\n",
       "      <td>1</td>\n",
       "      <td>37.738</td>\n",
       "      <td>7.885</td>\n",
       "      <td>5.126</td>\n",
       "      <td>1.00</td>\n",
       "      <td>103.65</td>\n",
       "      <td>C</td>\n",
       "      <td>\\n</td>\n",
       "    </tr>\n",
       "    <tr>\n",
       "      <th>...</th>\n",
       "      <td>...</td>\n",
       "      <td>...</td>\n",
       "      <td>...</td>\n",
       "      <td>...</td>\n",
       "      <td>...</td>\n",
       "      <td>...</td>\n",
       "      <td>...</td>\n",
       "      <td>...</td>\n",
       "      <td>...</td>\n",
       "      <td>...</td>\n",
       "      <td>...</td>\n",
       "      <td>...</td>\n",
       "      <td>...</td>\n",
       "    </tr>\n",
       "    <tr>\n",
       "      <th>12982</th>\n",
       "      <td>ATOM</td>\n",
       "      <td>0</td>\n",
       "      <td>HE2</td>\n",
       "      <td>LYS</td>\n",
       "      <td>I</td>\n",
       "      <td>165</td>\n",
       "      <td>-55.018</td>\n",
       "      <td>-25.202</td>\n",
       "      <td>25.296</td>\n",
       "      <td>1.00</td>\n",
       "      <td>125.77</td>\n",
       "      <td>H</td>\n",
       "      <td></td>\n",
       "    </tr>\n",
       "    <tr>\n",
       "      <th>12983</th>\n",
       "      <td>ATOM</td>\n",
       "      <td>0</td>\n",
       "      <td>HE3</td>\n",
       "      <td>LYS</td>\n",
       "      <td>I</td>\n",
       "      <td>165</td>\n",
       "      <td>-54.973</td>\n",
       "      <td>-24.333</td>\n",
       "      <td>24.001</td>\n",
       "      <td>1.00</td>\n",
       "      <td>125.77</td>\n",
       "      <td>H</td>\n",
       "      <td></td>\n",
       "    </tr>\n",
       "    <tr>\n",
       "      <th>12984</th>\n",
       "      <td>ATOM</td>\n",
       "      <td>0</td>\n",
       "      <td>HZ1</td>\n",
       "      <td>LYS</td>\n",
       "      <td>I</td>\n",
       "      <td>165</td>\n",
       "      <td>-57.129</td>\n",
       "      <td>-24.827</td>\n",
       "      <td>24.535</td>\n",
       "      <td>1.00</td>\n",
       "      <td>125.77</td>\n",
       "      <td>H</td>\n",
       "      <td></td>\n",
       "    </tr>\n",
       "    <tr>\n",
       "      <th>12985</th>\n",
       "      <td>ATOM</td>\n",
       "      <td>0</td>\n",
       "      <td>HZ2</td>\n",
       "      <td>LYS</td>\n",
       "      <td>I</td>\n",
       "      <td>165</td>\n",
       "      <td>-56.832</td>\n",
       "      <td>-25.447</td>\n",
       "      <td>23.255</td>\n",
       "      <td>1.00</td>\n",
       "      <td>125.77</td>\n",
       "      <td>H</td>\n",
       "      <td></td>\n",
       "    </tr>\n",
       "    <tr>\n",
       "      <th>12986</th>\n",
       "      <td>ATOM</td>\n",
       "      <td>0</td>\n",
       "      <td>HZ3</td>\n",
       "      <td>LYS</td>\n",
       "      <td>I</td>\n",
       "      <td>165</td>\n",
       "      <td>-56.873</td>\n",
       "      <td>-26.256</td>\n",
       "      <td>24.461</td>\n",
       "      <td>1.00</td>\n",
       "      <td>125.77</td>\n",
       "      <td>H</td>\n",
       "      <td></td>\n",
       "    </tr>\n",
       "  </tbody>\n",
       "</table>\n",
       "<p>12987 rows × 13 columns</p>\n",
       "</div>"
      ],
      "text/plain": [
       "         Atom Atom Number Atom Name Residue Name Chain ID  Residue Number  \\\n",
       "0      ATOM             1      N             ASP        A               1   \n",
       "1      ATOM             2      CA            ASP        A               1   \n",
       "2      ATOM             3      C             ASP        A               1   \n",
       "3      ATOM             4      O             ASP        A               1   \n",
       "4      ATOM             5      CB            ASP        A               1   \n",
       "...       ...         ...       ...          ...      ...             ...   \n",
       "12982  ATOM             0      HE2           LYS        I             165   \n",
       "12983  ATOM             0      HE3           LYS        I             165   \n",
       "12984  ATOM             0      HZ1           LYS        I             165   \n",
       "12985  ATOM             0      HZ2           LYS        I             165   \n",
       "12986  ATOM             0      HZ3           LYS        I             165   \n",
       "\n",
       "            X       Y       Z Occupancy Q_score Element Charge  \n",
       "0      39.605   7.967   6.710      1.00  103.79       N     \\n  \n",
       "1      38.587   8.767   6.040      1.00  103.79       C     \\n  \n",
       "2      37.700   9.505   7.034      1.00  103.79       C     \\n  \n",
       "3      37.942   9.464   8.232      1.00  103.79       O     \\n  \n",
       "4      37.738   7.885   5.126      1.00  103.65       C     \\n  \n",
       "...       ...     ...     ...       ...     ...     ...    ...  \n",
       "12982 -55.018 -25.202  25.296      1.00  125.77       H         \n",
       "12983 -54.973 -24.333  24.001      1.00  125.77       H         \n",
       "12984 -57.129 -24.827  24.535      1.00  125.77       H         \n",
       "12985 -56.832 -25.447  23.255      1.00  125.77       H         \n",
       "12986 -56.873 -26.256  24.461      1.00  125.77       H         \n",
       "\n",
       "[12987 rows x 13 columns]"
      ]
     },
     "execution_count": 17,
     "metadata": {},
     "output_type": "execute_result"
    }
   ],
   "source": [
    "filename='5w7v_3layers_neg120p44_h.pdb'\n",
    "datadir='/Users/NikosMynhier/Desktop/'\n",
    "input_file = open(f'{datadir}{filename}','r')\n",
    "file_length = get_file_length(f'{datadir}{filename}')\n",
    "\n",
    "atom = []\n",
    "atomno = []\n",
    "nama = []\n",
    "resn = []\n",
    "chainid = []\n",
    "resida = []\n",
    "xa = []\n",
    "ya = []\n",
    "za = []\n",
    "occup = []\n",
    "q = []\n",
    "elem = []\n",
    "charge = []\n",
    "for lines in range(file_length):\n",
    "    line = input_file.readline()\n",
    "    #line = str(line)\n",
    "    if line[0:4] == 'ATOM':\n",
    "        atom.append(line[0:6])\n",
    "        atomno.append(line[6:11])\n",
    "        nama.append(line[12:17])\n",
    "        resn.append(line[17:20])\n",
    "        chainid.append(line[21:22])\n",
    "        resida.append(int(line[22:26]))\n",
    "        xa.append(float(line[30:38]))\n",
    "        ya.append(float(line[38:46]))\n",
    "        za.append(float(line[46:54]))\n",
    "        occup.append(line[54:60])\n",
    "        q.append(line[60:66])\n",
    "        elem.append(line[76:78])\n",
    "        charge.append(line[78:80])\n",
    "d = {'Atom': atom, 'Atom Number': atomno, 'Atom Name': nama, 'Residue Name': resn, 'Chain ID': chainid, 'Residue Number': resida, 'X': xa, 'Y': ya, 'Z': za, 'Occupancy': occup, 'Q_score': q, 'Element': elem, 'Charge': charge} \n",
    "df = pd.DataFrame(d)\n",
    "input_file.close()"
   ]
  },
  {
   "cell_type": "markdown",
   "metadata": {},
   "source": [
    "### Calculations"
   ]
  },
  {
   "cell_type": "markdown",
   "metadata": {},
   "source": [
    "____\n",
    "Dihedral angles\n",
    "___"
   ]
  },
  {
   "cell_type": "markdown",
   "metadata": {},
   "source": [
    "φ (phi) involves the backbone atoms C-N-Cα-C\n",
    "\n",
    "ψ (psi) involves the backbone atoms N-Cα-C-N"
   ]
  },
  {
   "cell_type": "code",
   "execution_count": 46,
   "metadata": {},
   "outputs": [],
   "source": [
    "#Get Psi angles\n",
    "Res_num, ψ_angles = 0, []\n",
    "index1 = []\n",
    "N1 = np.array([ df['X'][0], df['Y'][0], df['Z'][0] ])\n",
    "for i in range(len(df)):\n",
    "    if df['Residue Number'][i] != Res_num:\n",
    "        if 'N' in df['Atom Name'][i]:\n",
    "            N2 = np.array([ df['X'][i], df['Y'][i], df['Z'][i] ])\n",
    "            if set(N2).difference(set(N1)) != set():\n",
    "            #if N2[0] != N1[0]:\n",
    "                alpha = calc_dihedral(N1,Ca,C1,N2)\n",
    "                ψ_angles.append([Ca_index, alpha*180/np.pi])\n",
    "                index1.append(i)\n",
    "            N1 = np.array([ df['X'][i], df['Y'][i], df['Z'][i] ])\n",
    "            Ca = np.array([ df['X'][i+1], df['Y'][i+1], df['Z'][i+1] ])\n",
    "            C1 = np.array([ df['X'][i+2], df['Y'][i+2], df['Z'][i+2] ])\n",
    "            Ca_index = i + 1\n",
    "        Res_num = df['Residue Number'][i]        \n",
    "\n",
    "ψ_col = [None for i in range(len(df))]\n",
    "for i in range(len(ψ_col)):\n",
    "    for j in range(len(ψ_angles)):\n",
    "        if i == ψ_angles[j][0]:\n",
    "            ψ_col[i] = ψ_angles[j][1]\n",
    "        \n",
    "df['ψ Angle'] = ψ_col\n",
    "index1_set = set(index1)"
   ]
  },
  {
   "cell_type": "code",
   "execution_count": 47,
   "metadata": {
    "scrolled": true
   },
   "outputs": [],
   "source": [
    "#Get Phi angles\n",
    "Res_num, φ_angles= 0, []\n",
    "index2 = []\n",
    "C1 = np.array([ df['X'][2], df['Y'][2], df['Z'][2] ])\n",
    "for i in range(len(df)):\n",
    "    if df['Residue Number'][i] != Res_num:\n",
    "        if 'N' in df['Atom Name'][i]:\n",
    "            N1 = np.array([ df['X'][i], df['Y'][i], df['Z'][i] ])\n",
    "            Ca = np.array([ df['X'][i+1], df['Y'][i+1], df['Z'][i+1] ])\n",
    "            C2 = np.array([ df['X'][i+2], df['Y'][i+2], df['Z'][i+2] ])\n",
    "            if set(C2).difference(set(C1)):\n",
    "            #if C2[0] != C1[0]:\n",
    "                Ca_index = i + 1\n",
    "                alpha = calc_dihedral(C1,N1,Ca,C2)\n",
    "                φ_angles.append([Ca_index, alpha*180/np.pi])\n",
    "                index2.append(i)\n",
    "            C1 = np.array([ df['X'][i+2], df['Y'][i+2], df['Z'][i+2] ])\n",
    "        Res_num = df['Residue Number'][i]\n",
    "        \n",
    "φ_col = [None for i in range(len(df))]\n",
    "for i in range(len(φ_col)):\n",
    "    for j in range(len(φ_angles)):\n",
    "        if i == φ_angles[j][0]:\n",
    "            φ_col[i] = φ_angles[j][1]\n",
    "df['φ Angle'] = φ_col\n",
    "index2_set = set(index2)"
   ]
  },
  {
   "cell_type": "code",
   "execution_count": 48,
   "metadata": {},
   "outputs": [
    {
     "name": "stdout",
     "output_type": "stream",
     "text": [
      "791 791\n",
      "791 791\n"
     ]
    },
    {
     "data": {
      "text/plain": [
       "set()"
      ]
     },
     "execution_count": 48,
     "metadata": {},
     "output_type": "execute_result"
    }
   ],
   "source": [
    "print(len(index1), len(index2))\n",
    "print(len(index1_set), len(index2_set))\n",
    "index2_set.difference(index1_set)"
   ]
  },
  {
   "cell_type": "markdown",
   "metadata": {},
   "source": [
    "___\n",
    "Ramachandran Plot\n",
    "___"
   ]
  },
  {
   "cell_type": "code",
   "execution_count": 49,
   "metadata": {},
   "outputs": [
    {
     "data": {
      "image/png": "[encoded data removed]",
      "text/plain": [
       "<Figure size 576x396 with 1 Axes>"
      ]
     },
     "metadata": {},
     "output_type": "display_data"
    }
   ],
   "source": [
    "#Dihedral Angles add one to the begining and one to the end\n",
    "φ = [None]\n",
    "φ.extend(φ_angles[i][1] for i in range(len(φ_angles)))\n",
    "ψ = [ψ_angles[i][1] for i in range(len(ψ_angles)) ]\n",
    "ψ.append(None)\n",
    "\n",
    "#Plot\n",
    "plt.scatter(φ, ψ)\n",
    "plt.title(\"Ramachandran Plot\")\n",
    "plt.xlabel(\"φ (deg)\")\n",
    "plt.ylabel(\"ψ (deg)\")\n",
    "plt.show()\n"
   ]
  },
  {
   "cell_type": "code",
   "execution_count": null,
   "metadata": {},
   "outputs": [],
   "source": [
    "structure = []\n",
    "for i in range(len(φ)):\n",
    "    temp = []\n",
    "    if φ[i] != None and ψ[i] != None:\n",
    "        if -180 < φ[i] < -45 and 45 < ψ[i] < 225:\n",
    "            temp.append('B-Strand')\n",
    "        if -180 < φ[i] < -0 and -100 < ψ[i] < 45:\n",
    "            temp.append('A-Helix')\n",
    "        if -90 < φ[i] < 90 and 0 < ψ[i] < 180:\n",
    "            temp.append('Turn')\n",
    "        if φ[i] > 90 or ψ[i] < -100:\n",
    "            temp.append('Misc')\n",
    "    else:\n",
    "        temp.append('Misc')   \n",
    "    structure.append(temp)\n",
    "\n",
    "if len(structure) != len(φ):\n",
    "    print(\"something wrong\")"
   ]
  },
  {
   "cell_type": "code",
   "execution_count": null,
   "metadata": {},
   "outputs": [],
   "source": [
    "start = [ψ_angles[0][0]]\n",
    "Ca_temp = [φ_angles[i][0] for i in range(len(φ_angles))]\n",
    "Ca_col = start + Ca_temp\n",
    "structure_col = [None for i in range(len(df))]\n",
    "for i in range(len(structure_col)):\n",
    "    for j in range(len(Ca_col)):\n",
    "        if i == Ca_col[j]:\n",
    "            structure_col[i] = str(structure[j])\n",
    "df['structure'] = structure_col"
   ]
  },
  {
   "cell_type": "markdown",
   "metadata": {},
   "source": [
    "##Calculate b-b h-bond distances"
   ]
  },
  {
   "cell_type": "code",
   "execution_count": null,
   "metadata": {},
   "outputs": [],
   "source": [
    "#Get a list of the Chain IDs\n",
    "temp = ['poop']\n",
    "all_chain_IDs = [] \n",
    "num_chains = 0\n",
    "num_atm_chn = 0\n",
    "for i in df['Chain ID']:\n",
    "    if temp != i:\n",
    "        all_chain_IDs.append(i)\n",
    "        temp = i\n",
    "        num_chains += 1\n",
    "        num_atm_chn = 0\n",
    "    if temp == i:\n",
    "        num_atm_chn += 1"
   ]
  },
  {
   "cell_type": "code",
   "execution_count": null,
   "metadata": {},
   "outputs": [],
   "source": [
    "chainid"
   ]
  },
  {
   "cell_type": "code",
   "execution_count": null,
   "metadata": {},
   "outputs": [],
   "source": [
    "#Calculate centers of mass for each chain\n",
    "#chainid, xa, ya, za = np.array(df['Chain ID']), np.array(df['X']), np.array(df['Y']), np.array(df['Z'])\n",
    "length = len(chainid)\n",
    "print(length)\n",
    "print(num_chains)\n",
    "comx, comy, comz = [], [], []\n",
    "for i in range(num_chains):\n",
    "    sumx, sumy, sumz = 0, 0, 0\n",
    "    for j in range(length):\n",
    "        if chainid[j] == all_chain_IDs[i]:\n",
    "            sumx += (xa[j])\n",
    "            sumy += (ya[j])\n",
    "            sumz += (za[j])\n",
    "    comx.append(sumx/num_atm_chn)\n",
    "    comy.append(sumy/num_atm_chn)\n",
    "    comz.append(sumz/num_atm_chn)\n",
    "print(comx,comy,comz)"
   ]
  },
  {
   "cell_type": "markdown",
   "metadata": {},
   "source": [
    "### Define Functions"
   ]
  },
  {
   "cell_type": "code",
   "execution_count": null,
   "metadata": {},
   "outputs": [],
   "source": [
    "def get_dist(x2,x1,y2,y1,z2,z1):\n",
    "    return np.sqrt((x2-x1)**2+(y2-y1)**2+(z2-z1)**2)"
   ]
  },
  {
   "cell_type": "code",
   "execution_count": null,
   "metadata": {},
   "outputs": [],
   "source": [
    "#Calculate all backbone-backbone h-bonds \n",
    "dist = []\n",
    "radius = []\n",
    "chain_ID_H = []\n",
    "chain_ID_O = []\n",
    "residue_number_H = []\n",
    "residue_number_O = []\n",
    "residue_name_H = []\n",
    "residue_name_O = []\n",
    "atom_name_H = []\n",
    "atom_name_O = []\n",
    "#start = time.time()\n",
    "for i in range(num_chains):\n",
    "    for j in range(num_chains):\n",
    "        diffcomx=comx[i]-comx[j]\n",
    "        diffcomy=comy[i]-comy[j]\n",
    "        diffcomz=comz[i]-comz[j]\n",
    "        diffcom=np.sqrt(diffcomx**2+diffcomy**2+diffcomz**2)\n",
    "        if diffcom>4 and diffcom<5.2:\n",
    "            print(all_chain_IDs[i],all_chain_IDs[j])\n",
    "            for k in range(length):\n",
    "                if nama[k][1:5]=='H   ' and chainid[k]==all_chain_IDs[i]:\n",
    "                        for l in range(length):\n",
    "                            if nama[l][1:3]=='O ' and chainid[l]==all_chain_IDs[j] and resida[l]==resida[k]-1 and 1.6<get_dist(xa[k],xa[l],ya[k],ya[l],za[k],za[l])<2.6:\n",
    "                                dist.append(get_dist(xa[k],xa[l],ya[k],ya[l],za[k],za[l]))\n",
    "                                radius.append(np.sqrt(((xa[k]**2+((ya[k])**2)))))\n",
    "                                chain_ID_H.append(chainid[k])\n",
    "                                chain_ID_O.append(chainid[l])\n",
    "                                residue_number_H.append(resida[k])\n",
    "                                residue_number_O.append(resida[l])\n",
    "                                residue_name_H.append(resn[k])\n",
    "                                residue_name_O.append(resn[l])\n",
    "                                atom_name_H.append(nama[k])\n",
    "                                atom_name_O.append(nama[l])\n",
    "\n",
    "dist"
   ]
  },
  {
   "cell_type": "code",
   "execution_count": null,
   "metadata": {},
   "outputs": [],
   "source": [
    "print(len(atom_name_O))"
   ]
  },
  {
   "cell_type": "code",
   "execution_count": null,
   "metadata": {},
   "outputs": [],
   "source": [
    "#Calculate the \"tilt\" of each residue by measuring backbone carbonyl bond vector magnitude on X, Y plane\n",
    "CO_xy=[]\n",
    "CO_tilt=[]\n",
    "CO_radius=[]\n",
    "CO_chainid=[]\n",
    "CO_residue_number=[]\n",
    "CO_residue_name=[]\n",
    "for i in range(length):\n",
    "    if nama[i]==' C   ':\n",
    "        #print(nama[i])\n",
    "        #print(nama[i+1])\n",
    "        CO_xy.append(np.sqrt((xa[i+1]-xa[i])**2+(ya[i+1]-ya[i])**2))\n",
    "        CO_tilt.append(90-(180/3.14)*np.arccos((np.sqrt((xa[i+1]-xa[i])**2+(ya[i+1]-ya[i])**2))/1.23))\n",
    "        CO_radius.append(np.sqrt(xa[i]**2+ya[i]**2))\n",
    "        CO_chainid.append(chainid[i])\n",
    "        CO_residue_number.append(resida[i])\n",
    "        CO_residue_name.append(resn[i])\n",
    "        #print(CO_xy)\n",
    "#    if nama[i]==' C  A':\n",
    "#        #print(nama[i])\n",
    "#        #print(nama[i+2])\n",
    "#        CO_xy.append(np.sqrt((xa[i+2]-xa[i])**2+(ya[i+1]-ya[i])**2))\n",
    "#        CO_tilt.append(90-(180/3.14)*np.arccos((np.sqrt((xa[i+1]-xa[i])**2+(ya[i+1]-ya[i])**2))/1.23))\n",
    "#        CO_radius.append(np.sqrt(xa[i]**2+ya[i]**2))\n",
    "#        CO_chainid.append(chainid[i])\n",
    "#        CO_residue_number.append(resida[i])\n",
    "#        CO_residue_name.append(resn[i])\n",
    "#        #print(CO_xy)\n",
    "#    if nama[i]==' C  B':\n",
    "#        #print(nama[i])\n",
    "#        #print(nama[i+2])\n",
    "#        CO_xy.append(np.sqrt((xa[i+2]-xa[i])**2+(ya[i+2]-ya[i])**2))\n",
    "#        CO_tilt.append(90-(180/3.14)*np.arccos((np.sqrt((xa[i+1]-xa[i])**2+(ya[i+1]-ya[i])**2))/1.23))\n",
    "#        CO_radius.append(np.sqrt(xa[i]**2+ya[i]**2))\n",
    "#        CO_chainid.append(chainid[i])\n",
    "#        CO_residue_number.append(resida[i])\n",
    "#        CO_residue_name.append(resn[i])\n",
    "#        #print(CO_xy)\n",
    "        \n",
    "for i in range(len(CO_radius)):\n",
    "    print(CO_xy[i],CO_tilt[i],CO_radius[i],CO_chainid[i],CO_residue_number[i],CO_residue_name[i])\n",
    "    \n",
    "\n"
   ]
  },
  {
   "cell_type": "code",
   "execution_count": null,
   "metadata": {},
   "outputs": [],
   "source": [
    "#Assign a tilt to each h-bond identified above\n",
    "h_bond_tilt=[]\n",
    "for i in range(len(dist)):\n",
    "    #print(CO_residue_number[i])\n",
    "    for j in range(len(CO_radius)):\n",
    "        if CO_residue_number[j]==residue_number_O[i] and CO_residue_name[j]==residue_name_O[i] and CO_chainid[j]==chain_ID_O[i]:\n",
    "            h_bond_tilt.append(CO_tilt[j])\n",
    "            print(CO_residue_number[j],residue_number_O[i],CO_residue_name[j],residue_name_O[i],CO_radius[j],radius[i],CO_tilt[j],CO_chainid[j],chain_ID_O[i])\n",
    "#print(len(residue_number_O))\n",
    "print(len(h_bond_tilt))"
   ]
  },
  {
   "cell_type": "code",
   "execution_count": null,
   "metadata": {},
   "outputs": [],
   "source": [
    "print(len(CO_radius))"
   ]
  },
  {
   "cell_type": "code",
   "execution_count": null,
   "metadata": {},
   "outputs": [],
   "source": [
    "print(len(radius),len(dist),len(h_bond_tilt),len(atom_name_H),len(residue_name_H),len(chain_ID_H),len(residue_number_H),len(atom_name_O),len(residue_name_O),len(chain_ID_O),len(residue_number_O))\n",
    "for i in range(len(dist)):\n",
    "    print(radius[i],dist[i],h_bond_tilt[i],atom_name_H[i],residue_name_H[i],chain_ID_H[i],residue_number_H[i],atom_name_O[i], residue_name_O[i],chain_ID_O[i],residue_number_O[i])"
   ]
  },
  {
   "cell_type": "code",
   "execution_count": null,
   "metadata": {},
   "outputs": [],
   "source": [
    "d = {'radius':radius,'dist': dist,'tilt': h_bond_tilt,'atom_name_H': atom_name_H,'residue_name_H': residue_name_H,'chain_ID_H': chain_ID_H,'residue_number_H': residue_number_H,'atom_name_O': atom_name_O, 'residue_name_O': residue_name_O,'chain_ID_O': chain_ID_O,'residue_number_O': residue_number_O}\n",
    "h_bonds = pd.DataFrame(d)\n",
    "h_bonds"
   ]
  },
  {
   "cell_type": "markdown",
   "metadata": {},
   "source": [
    "# H and O structure relationships"
   ]
  },
  {
   "cell_type": "code",
   "execution_count": null,
   "metadata": {},
   "outputs": [],
   "source": [
    "HnO_struc = []\n",
    "for i in range(len(h_bonds)):\n",
    "    break_bi = 0\n",
    "    temp = []\n",
    "    for j in range(len(df)):\n",
    "        if h_bonds['residue_number_O'][i] == df['Residue Number'][j]:\n",
    "            if 'CA' in df['Atom Name'][j]:\n",
    "                temp.append(ast.literal_eval(df['structure'][j]))\n",
    "        if h_bonds['residue_number_H'][i] == df['Residue Number'][j]:\n",
    "            if 'CA' in df['Atom Name'][j]:\n",
    "                temp.append(ast.literal_eval(df['structure'][j]))\n",
    "                break_bi = 1\n",
    "        if break_bi == 1:\n",
    "            break\n",
    "    HnO_struc.append(temp)  \n",
    "h_bonds['H & O Strucs'] = HnO_struc"
   ]
  },
  {
   "cell_type": "code",
   "execution_count": null,
   "metadata": {},
   "outputs": [],
   "source": [
    "h_bonds['H & O Strucs']"
   ]
  },
  {
   "cell_type": "code",
   "execution_count": null,
   "metadata": {},
   "outputs": [],
   "source": [
    "h_bonds"
   ]
  },
  {
   "cell_type": "markdown",
   "metadata": {},
   "source": [
    "# TO DO"
   ]
  },
  {
   "cell_type": "markdown",
   "metadata": {},
   "source": []
  },
  {
   "cell_type": "code",
   "execution_count": null,
   "metadata": {},
   "outputs": [],
   "source": [
    "#df.to_csv(\"/Users/NikosMynhier/Desktop/David/Alpha_Psi_Calculation/fixed_pdbs_h/6n3c_origin_5layers_h_+ang_+struc.pdb\",index=False)\n",
    "h_bonds.to_csv(f'{filename}'[0:4] + str(\".csv\"), index=False)\n"
   ]
  },
  {
   "cell_type": "code",
   "execution_count": null,
   "metadata": {},
   "outputs": [],
   "source": [
    "colors = []\n",
    "colors_onlyBB = []\n",
    "radius_onlyBB = []\n",
    "dist_onlyBB = []\n",
    "tilt_onlyBB = []\n",
    "for i in range(len(h_bonds)):\n",
    "    if h_bonds['H & O Strucs'][i] == [['B-Strand'], ['B-Strand']]:\n",
    "        colors.append('red')\n",
    "        colors_onlyBB.append('red')\n",
    "        radius_onlyBB.append(h_bonds['radius'][i])\n",
    "        dist_onlyBB.append(h_bonds['dist'][i])\n",
    "        tilt_onlyBB.append(h_bonds['tilt'][i])\n",
    "    else:\n",
    "        colors.append('blue')"
   ]
  },
  {
   "cell_type": "code",
   "execution_count": null,
   "metadata": {},
   "outputs": [],
   "source": [
    "plt.scatter(h_bonds['radius'], h_bonds['dist'], c=colors)\n",
    "plt.legend(['Red = Beta-Beta, Blue = else'], frameon=False, loc='upper right')\n",
    "plt.title(filename, fontsize=15)\n",
    "plt.xlabel(\"Radius\", fontsize=15)\n",
    "plt.ylabel(\"Dist\", fontsize=15)\n",
    "plt.show()"
   ]
  },
  {
   "cell_type": "code",
   "execution_count": null,
   "metadata": {},
   "outputs": [],
   "source": [
    "plt.scatter(h_bonds['radius'], h_bonds['tilt'], c=colors)\n",
    "plt.legend(['Red = Beta-Beta, Blue = else'], frameon=False, loc='upper right')\n",
    "plt.title(filename, fontsize=15)\n",
    "plt.xlabel(\"Radius\", fontsize=15)\n",
    "plt.ylabel(\"Tilt\", fontsize=15)\n",
    "plt.show()"
   ]
  },
  {
   "cell_type": "code",
   "execution_count": null,
   "metadata": {},
   "outputs": [],
   "source": [
    "[a, b, c] = np.polyfit(radius_onlyBB, tilt_onlyBB, 2)\n",
    "x2d = np.linspace(0,50,100)\n",
    "y2d = a*(x2d**2) + b*x2d + c\n",
    "\n",
    "[a, b] = np.polyfit(radius_onlyBB, tilt_onlyBB, 1)\n",
    "x1d = np.linspace(0,50,100)\n",
    "y1d = a*x1d + b\n",
    "\n",
    "plt.scatter(radius_onlyBB, tilt_onlyBB, c=colors_onlyBB)\n",
    "plt.plot(x1d, y1d)\n",
    "plt.title(f'{filename} only Beta-Beta', fontsize=15)\n",
    "plt.xlabel(\"Radius\", fontsize=15)\n",
    "plt.ylabel(\"Tilt\", fontsize=15)\n",
    "plt.show() "
   ]
  },
  {
   "cell_type": "code",
   "execution_count": null,
   "metadata": {},
   "outputs": [],
   "source": [
    "#Plot radius vs. tilt \n",
    "[a, b, c] = np.polyfit(radius_onlyBB, dist_onlyBB, 2)\n",
    "x2d = np.linspace(0,50,100)\n",
    "y2d = a*(x2d**2) + b*x2d + c\n",
    "\n",
    "[a, b] = np.polyfit(radius_onlyBB, dist_onlyBB, 1)\n",
    "x1d = np.linspace(0,50,100)\n",
    "y1d = a*x1d + b\n",
    "\n",
    "plt.scatter(radius_onlyBB, dist_onlyBB, c=colors_onlyBB)\n",
    "plt.plot(x2d, y2d)\n",
    "plt.title(f'{filename} only Beta-Beta', fontsize=15)\n",
    "plt.xlabel(\"Radius\", fontsize=15)\n",
    "plt.ylabel(\"Dist\", fontsize=15)\n",
    "plt.show() "
   ]
  },
  {
   "cell_type": "code",
   "execution_count": null,
   "metadata": {},
   "outputs": [],
   "source": [
    "def linear_weight(radius):\n",
    "    return (1-(1/radius))\n",
    "\n",
    "dist_err = []\n",
    "for rad in radius_onlyBB:\n",
    "    dist_err.append(.0005*linear_weight(rad))\n",
    "derr = np.array(radius_onlyBB)*np.array(dist_err)\n",
    "print(derr)\n",
    "\n"
   ]
  },
  {
   "cell_type": "code",
   "execution_count": null,
   "metadata": {},
   "outputs": [],
   "source": [
    "def curve(x, a, b, c):\n",
    "    return a*(x**2) + b*x + c\n",
    "\n",
    "x = radius_onlyBB\n",
    "y = dist_onlyBB\n",
    "plt.errorbar(x, y, yerr=derr, fmt=\".\", label=\"Data\")\n",
    "popt, pcov = sp.curve_fit(curve, x, y, sigma=derr)\n",
    "\n",
    "print(\"a =\", popt[0], \"+/-\", pcov[0,0]**0.5)\n",
    "print(\"b =\", popt[1], \"+/-\", pcov[1,1]**0.5)\n",
    "print(\"c =\", popt[2], \"+/-\", pcov[2,2]**0.5)\n",
    "print('Weighted fit parameters:', popt)\n",
    "print('Covariance matrix:'); print(pcov)\n",
    "\n",
    "rangerad = np.linspace(0, 50)\n",
    "plt.plot(curve(rangerad, popt[0], popt[1], popt[2]), label=\"Fit\")\n",
    "\n",
    "\n",
    "#Graphics\n",
    "plt.title(\"Radius vs. H-bond Distance\")\n",
    "plt.xlabel(\"Radius (angstroms)\")\n",
    "plt.ylabel(\"H-bond Distance (angstroms)\")\n",
    "plt.legend(loc='upper right')\n",
    "#plt.savefig('/Users/NikosMynhier/Desktop/X_vs_lnI_Graph')\n",
    "plt.show()"
   ]
  }
 ],
 "metadata": {
  "kernelspec": {
   "display_name": "Python 3",
   "language": "python",
   "name": "python3"
  },
  "language_info": {
   "codemirror_mode": {
    "name": "ipython",
    "version": 3
   },
   "file_extension": ".py",
   "mimetype": "text/x-python",
   "name": "python",
   "nbconvert_exporter": "python",
   "pygments_lexer": "ipython3",
   "version": "3.6.10"
  }
 },
 "nbformat": 4,
 "nbformat_minor": 4
}
