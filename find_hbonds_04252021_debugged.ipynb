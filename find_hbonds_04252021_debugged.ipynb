{
 "cells": [
  {
   "cell_type": "markdown",
   "metadata": {},
   "source": [
    "# Generate pdb & h-bonds dataframes from pdb"
   ]
  },
  {
   "cell_type": "markdown",
   "metadata": {},
   "source": [
    "### Imports"
   ]
  },
  {
   "cell_type": "code",
   "execution_count": 213,
   "metadata": {},
   "outputs": [],
   "source": [
    "import pandas as pd\n",
    "import numpy as np\n",
    "import matplotlib.pyplot as plt\n",
    "import scipy.optimize as sp\n",
    "import os\n",
    "import csv\n",
    "import time\n",
    "import ast\n",
    "import sys\n",
    "plt.style.use('seaborn-notebook')\n",
    "plt.style.use('seaborn-whitegrid')\n",
    "pd.set_option('display.max_rows', 200)"
   ]
  },
  {
   "cell_type": "markdown",
   "metadata": {},
   "source": [
    "### Read in cmd line args"
   ]
  },
  {
   "cell_type": "code",
   "execution_count": 214,
   "metadata": {},
   "outputs": [],
   "source": [
    "#sh macro_hbond.sh /Users/NikosMynhier/Desktop/David/Alpha_Psi_Calculation/fixed_pdbs_h 4 /Desktop/code/2021/AB-Fibril-Radius-vs-Hydrogen-Bond-Relationship /Users/NikosMynhier/Desktop/David/plots\n",
    "\n",
    "args = sys.argv\n",
    "\n",
    "#args: script name, /path/to/uncert_file.pdb, outfile path\n",
    "args = [\"script name\", \"/Users/davidboyer/Dropbox/Tau_Project_EISENBERG_LAB/amyloid_width/q_sayre/data/6lni_origin_5layers_h__Q__emd_0931_o.pdb\", \"/Users/davidboyer/Dropbox/Tau_Project_EISENBERG_LAB/amyloid_width/python/calculations/hbonds/data2/\" ]\n",
    "#\"5w7v_3layers_neg120p44_h.pdb\" #'6ufr_origin_5layers_h.pdb'\n",
    "#args[1] = \"/Users/NikosMynhier/Desktop/David/Alpha_Psi_Calculation/fixed_pdbs_h/5oqv_origin_5layers_h.pdb\"\n"
   ]
  },
  {
   "cell_type": "code",
   "execution_count": 215,
   "metadata": {},
   "outputs": [
    {
     "data": {
      "text/plain": [
       "['script name',\n",
       " '/Users/davidboyer/Dropbox/Tau_Project_EISENBERG_LAB/amyloid_width/q_sayre/data/6lni_origin_5layers_h__Q__emd_0931_o.pdb',\n",
       " '/Users/davidboyer/Dropbox/Tau_Project_EISENBERG_LAB/amyloid_width/python/calculations/hbonds/data2/']"
      ]
     },
     "execution_count": 215,
     "metadata": {},
     "output_type": "execute_result"
    }
   ],
   "source": [
    "args"
   ]
  },
  {
   "cell_type": "markdown",
   "metadata": {},
   "source": [
    "### Functions"
   ]
  },
  {
   "cell_type": "markdown",
   "metadata": {},
   "source": [
    "$ \\alpha = arccos( \\frac{ ( V_1 \\times V_2 ) \\hspace{.1cm} \\cdot \\hspace{.1cm} ( V_2 \\times V_3 ) }{\\lvert V_1 \\times V_2 \\rvert \\hspace{.1cm} \\cdot \\hspace{.1cm} \\lvert V_2 \\times V_3 \\rvert} ) \\hspace{.5cm}$\n",
    "$V_n = (P_n \\times P_{n+1})$"
   ]
  },
  {
   "cell_type": "markdown",
   "metadata": {},
   "source": [
    "If the vectors u = (u1, u2, u3), v = (v1, v2, v3) and w = (w1, w2, w3) are vectors in 3-space with the\n",
    "same initial point,\n",
    "\n",
    "then they lie in the same plane if and only if\n",
    "\n",
    "u(v x w) = 0"
   ]
  },
  {
   "cell_type": "code",
   "execution_count": 216,
   "metadata": {},
   "outputs": [],
   "source": [
    "def get_file_length(input_file):\n",
    "    with open(input_file) as f:\n",
    "        for i, l in enumerate(f):\n",
    "            pass\n",
    "    return i + 1\n",
    "\n",
    "def calc_dihedral(p1, p2, p3, p4):\n",
    "    \n",
    "    #get vectors from atom coordinates\n",
    "    v1 = p2 - p1\n",
    "    v2 = p3 - p2\n",
    "    v3 = p4 - p3\n",
    "\n",
    "    #cross vectors and normalize terms \n",
    "    c1 = np.cross(v1, v2)\n",
    "    c1 = c1 / (c1 * c1).sum(-1)**0.5\n",
    "    c2 = np.cross(v2, v3)\n",
    "    c2 = c2 / (c2 * c2).sum(-1)**0.5\n",
    "    \n",
    "    #plug terms and get dihedral angle\n",
    "    rad = np.arccos((c1*c2).sum(-1) / ((c1**2).sum(-1) * (c2**2).sum(-1))**0.5)\n",
    "    \n",
    "    #corrects sign if orthogonal vectors\n",
    "    porm = np.sign((c1 * v3).sum(-1))\n",
    "    if not porm == 0:\n",
    "        rad = rad * porm\n",
    "\n",
    "    return rad\n",
    "\n",
    "def read_in_pdb_type1(path):\n",
    "    input_file = open(f'{path}','r')\n",
    "    file_length = get_file_length(f'{path}')\n",
    "    \n",
    "    atom = []\n",
    "    atomno = []\n",
    "    nama = []\n",
    "    resn = []\n",
    "    chainid = []\n",
    "    resida = []\n",
    "    xa = []\n",
    "    ya = []\n",
    "    za = []\n",
    "    occup = []\n",
    "    q_score = []\n",
    "    elem = []\n",
    "    charge = []\n",
    "    for lines in range(file_length):\n",
    "        line = input_file.readline()\n",
    "        #line = str(line)\n",
    "        if line[0:4] == 'ATOM':\n",
    "            atom.append(line[0:6])\n",
    "            atomno.append(line[6:11])\n",
    "            nama.append(line[12:17])\n",
    "            resn.append(line[17:20])\n",
    "            chainid.append(line[21:22])\n",
    "            resida.append(int(line[22:26]))\n",
    "            xa.append(float(line[30:38]))\n",
    "            ya.append(float(line[38:46]))\n",
    "            za.append(float(line[46:54]))\n",
    "            occup.append(line[54:60])\n",
    "            #tempf.append(line[60:66])\n",
    "            q_score.append(line[60:66])\n",
    "            elem.append(line[76:78])\n",
    "            charge.append(line[78:80])\n",
    "    d = {'Atom': atom, 'Atom Number': atomno, 'Atom Name': nama, 'Residue Name': resn, 'Chain ID': chainid, 'Residue Number': resida, 'X': xa, 'Y': ya, 'Z': za, 'Occupancy': occup, 'Qscore': q_score, 'Element': elem, 'Charge': charge} \n",
    "    df = pd.DataFrame(d)\n",
    "    input_file.close()\n",
    "    return df\n",
    "\n",
    "def read_in_pdb_type2(path):\n",
    "    input_file = open(f'{path}','r')\n",
    "    file_length = get_file_length(f'{path}')\n",
    "    \n",
    "    atom = []\n",
    "    atomno = []\n",
    "    nama = []\n",
    "    resn = []\n",
    "    chainid = []\n",
    "    resida = []\n",
    "    xa = []\n",
    "    ya = []\n",
    "    za = []\n",
    "    occup = []\n",
    "    q_score = []\n",
    "    elem = []\n",
    "    for lines in range(file_length):\n",
    "        line = input_file.readline()\n",
    "        if line[0:4] == 'ATOM':\n",
    "            atom.append(line[0:6])\n",
    "            atomno.append(line[6:11])\n",
    "            nama.append(line[12:17])\n",
    "            resn.append(line[17:20])\n",
    "            chainid.append(line[21:22])\n",
    "            resida.append(int(line[22:26]))\n",
    "            xa.append(float(line[30:38]))\n",
    "            ya.append(float(line[38:46]))\n",
    "            za.append(float(line[46:54]))\n",
    "            occup.append(line[54:60])\n",
    "            q_score.append(line[60:66])\n",
    "            elem.append(line[76:78])\n",
    "    d = {'Atom': atom, 'Atom Number': atomno, 'Atom Name': nama, 'Residue Name': resn, 'Chain ID': chainid, 'Residue Number': resida, 'X': xa, 'Y': ya, 'Z': za, 'Occupancy': occup, 'Qscore': q_score, 'Element': elem} \n",
    "    df = pd.DataFrame(d)\n",
    "    input_file.close()\n",
    "    return df"
   ]
  },
  {
   "cell_type": "markdown",
   "metadata": {},
   "source": [
    "### Read-in .pdb file"
   ]
  },
  {
   "cell_type": "code",
   "execution_count": 217,
   "metadata": {},
   "outputs": [],
   "source": [
    "filename =  args[1]\n",
    "sample_name = args[1].split(\"/\")[-1][0:4]\n",
    "outpath = args[2]\n",
    "make_outpath = f\" mkdir -p {outpath} \"\n",
    "os.system(make_outpath)\n",
    "df = read_in_pdb_type2(filename)\n",
    "df_uncert = df"
   ]
  },
  {
   "cell_type": "code",
   "execution_count": 218,
   "metadata": {},
   "outputs": [],
   "source": [
    "Residue_subgroup_col = [1]\n",
    "Residue_subgroup = 1\n",
    "for i in range(1, len(df[\"Residue Number\"])):\n",
    "    if (df[\"Residue Number\"][i] - df[\"Residue Number\"][i-1]) > 1:\n",
    "        Residue_subgroup += 1\n",
    "    Residue_subgroup_col.append(Residue_subgroup)\n",
    "df[\"subgroup\"] = Residue_subgroup_col"
   ]
  },
  {
   "cell_type": "markdown",
   "metadata": {},
   "source": [
    "### Calculations"
   ]
  },
  {
   "cell_type": "markdown",
   "metadata": {},
   "source": [
    "____\n",
    "Dihedral angles\n",
    "___"
   ]
  },
  {
   "cell_type": "markdown",
   "metadata": {},
   "source": [
    "φ (phi) involves the backbone atoms C-N-Cα-C\n",
    "\n",
    "ψ (psi) involves the backbone atoms N-Cα-C-N"
   ]
  },
  {
   "cell_type": "code",
   "execution_count": 219,
   "metadata": {},
   "outputs": [],
   "source": [
    "#Get Psi angles\n",
    "Res_num, ψ_angles = 0, []\n",
    "index1 = []\n",
    "subgroup = 1\n",
    "N1 = np.array([ df['X'][0], df['Y'][0], df['Z'][0] ])\n",
    "for i in range(len(df)):\n",
    "    if df['Residue Number'][i] != Res_num:\n",
    "        if 'N' in df['Atom Name'][i]:\n",
    "            N2 = np.array([ df['X'][i], df['Y'][i], df['Z'][i] ])\n",
    "            if set(N2).difference(set(N1)) != set():\n",
    "                alpha = calc_dihedral(N1,Ca,C1,N2)\n",
    "                ψ_angles.append([Ca_index, alpha*180/np.pi])\n",
    "                if df[\"subgroup\"][i] != subgroup:\n",
    "                    ψ_angles.pop()\n",
    "                    ψ_angles.append([Ca_index, None])\n",
    "                    subgroup += 1\n",
    "                index1.append(i)\n",
    "            N1 = np.array([ df['X'][i], df['Y'][i], df['Z'][i] ])\n",
    "            Ca = np.array([ df['X'][i+1], df['Y'][i+1], df['Z'][i+1] ])\n",
    "            C1 = np.array([ df['X'][i+2], df['Y'][i+2], df['Z'][i+2] ])\n",
    "            Ca_index = i + 1\n",
    "        Res_num = df['Residue Number'][i]\n",
    "\n",
    "ψ_col = [None for i in range(len(df))]\n",
    "for i in range(len(ψ_col)):\n",
    "    for j in range(len(ψ_angles)):\n",
    "        if i == ψ_angles[j][0]:\n",
    "            ψ_col[i] = ψ_angles[j][1]\n",
    "        \n",
    "df['ψ Angle'] = ψ_col\n",
    "index1_set = set(index1)"
   ]
  },
  {
   "cell_type": "code",
   "execution_count": 220,
   "metadata": {
    "scrolled": true
   },
   "outputs": [],
   "source": [
    "#Get Phi angles\n",
    "Res_num, φ_angles= 0, []\n",
    "index2 = []\n",
    "subgroup = 1\n",
    "C1 = np.array([ df['X'][2], df['Y'][2], df['Z'][2] ])\n",
    "for i in range(len(df)):\n",
    "        if df['Residue Number'][i] != Res_num:\n",
    "            if 'N' in df['Atom Name'][i]:\n",
    "                N1 = np.array([ df['X'][i], df['Y'][i], df['Z'][i] ])\n",
    "                Ca = np.array([ df['X'][i+1], df['Y'][i+1], df['Z'][i+1] ])\n",
    "                C2 = np.array([ df['X'][i+2], df['Y'][i+2], df['Z'][i+2] ])\n",
    "                if set(C2).difference(set(C1)) != set():\n",
    "                    Ca_index = i + 1\n",
    "                    alpha = calc_dihedral(C1,N1,Ca,C2)\n",
    "                    if df[\"subgroup\"][i] == subgroup:\n",
    "                        φ_angles.append([Ca_index, alpha*180/np.pi])\n",
    "                    else:\n",
    "                        φ_angles.append([Ca_index, None])\n",
    "                        subgroup += 1\n",
    "                    index2.append(i)\n",
    "                C1 = np.array([ df['X'][i+2], df['Y'][i+2], df['Z'][i+2] ])\n",
    "            Res_num = df['Residue Number'][i]     \n",
    "        \n",
    "        \n",
    "φ_col = [None for i in range(len(df))]\n",
    "for i in range(len(φ_col)):\n",
    "    for j in range(len(φ_angles)):\n",
    "        if i == φ_angles[j][0]:\n",
    "            φ_col[i] = φ_angles[j][1]\n",
    "df['φ Angle'] = φ_col\n",
    "index2_set = set(index2)"
   ]
  },
  {
   "cell_type": "code",
   "execution_count": 221,
   "metadata": {},
   "outputs": [],
   "source": [
    "#Get uncertainties angles\n",
    "Res_num, uncert_col, uncert_values = 0, [], []\n",
    "min_uncert = .01 #angstroms\n",
    "for i in range(len(df_uncert)):\n",
    "    if df_uncert['Residue Number'][i] != Res_num:\n",
    "        if 'N' in df_uncert['Atom Name'][i]:\n",
    "            #uncert_multiplier = np.array( float(df_uncert['Qscore'][i]) + float(df_uncert['Qscore'][i+3]) )\n",
    "            uncert_multiplier = np.array( np.sqrt(float(df_uncert['Qscore'][i])**2 + float(df_uncert['Qscore'][i+3])**2) )\n",
    "            uncert = uncert_multiplier*min_uncert\n",
    "            uncert_values.append(uncert)\n",
    "        Res_num = df_uncert['Residue Number'][i]\n",
    "    uncert_col.append(uncert)\n",
    "        \n",
    "df_uncert['Uncertainty'] = uncert_col"
   ]
  },
  {
   "cell_type": "code",
   "execution_count": 222,
   "metadata": {},
   "outputs": [
    {
     "name": "stdout",
     "output_type": "stream",
     "text": [
      "599 599\n"
     ]
    }
   ],
   "source": [
    "print(len(index1_set), len(index2_set))\n",
    "if index2_set.difference(index1_set) != set():\n",
    "    print(\"Sets are unequal size, something went wrong.\")"
   ]
  },
  {
   "cell_type": "markdown",
   "metadata": {},
   "source": [
    "___\n",
    "Ramachandran Plot\n",
    "___"
   ]
  },
  {
   "cell_type": "code",
   "execution_count": 223,
   "metadata": {},
   "outputs": [],
   "source": [
    "#Dihedral Angles add one to the begining and one to the end\n",
    "φ = [None]\n",
    "φ.extend(φ_angles[i][1] for i in range(len(φ_angles)))\n",
    "ψ = [ψ_angles[i][1] for i in range(len(ψ_angles)) ]\n",
    "ψ.append(None)\n",
    "\n",
    "#Plot\n",
    "#plt.scatter(φ, ψ)\n",
    "#plt.title(\"Ramachandran Plot\")\n",
    "#plt.xlabel(\"φ (deg)\")\n",
    "#plt.ylabel(\"ψ (deg)\")\n",
    "#plt.show()\n",
    "#"
   ]
  },
  {
   "cell_type": "code",
   "execution_count": 224,
   "metadata": {},
   "outputs": [],
   "source": [
    "structure = []\n",
    "for i in range(len(φ)):\n",
    "    temp = []\n",
    "    if φ[i] != None and ψ[i] != None:\n",
    "        if -180 < φ[i] < -45 and 45 < ψ[i] < 225:\n",
    "            temp.append('B-Strand')\n",
    "        if -180 < φ[i] < -0 and -100 < ψ[i] < 45:\n",
    "            temp.append('A-Helix')\n",
    "        if -90 < φ[i] < 90 and 0 < ψ[i] < 180:\n",
    "            temp.append('Turn')\n",
    "        if φ[i] > 90 or ψ[i] < -100:\n",
    "            temp.append('Misc')\n",
    "    else:\n",
    "        temp.append('Misc')   \n",
    "    structure.append(temp)\n",
    "\n",
    "if len(structure) != len(φ):\n",
    "    print(\"something wrong\")"
   ]
  },
  {
   "cell_type": "code",
   "execution_count": 225,
   "metadata": {},
   "outputs": [],
   "source": [
    "start = [ψ_angles[0][0]]\n",
    "Ca_temp = [φ_angles[i][0] for i in range(len(φ_angles))]\n",
    "Ca_col = start + Ca_temp\n",
    "structure_col = [None for i in range(len(df))]\n",
    "for i in range(len(structure_col)):\n",
    "    for j in range(len(Ca_col)):\n",
    "        if i == Ca_col[j]:\n",
    "            structure_col[i] = str(structure[j])\n",
    "df['structure'] = structure_col"
   ]
  },
  {
   "cell_type": "markdown",
   "metadata": {},
   "source": [
    "___\n",
    "Radius, Interstrand Distance & Strand Tilt\n",
    "___"
   ]
  },
  {
   "cell_type": "code",
   "execution_count": 226,
   "metadata": {},
   "outputs": [],
   "source": [
    "#Get a list of the Chain IDs\n",
    "temp = ['poop']\n",
    "all_chain_IDs = [] \n",
    "num_chains = 0\n",
    "num_atm_chn = 0\n",
    "for i in df['Chain ID']:\n",
    "    if temp != i:\n",
    "        all_chain_IDs.append(i)\n",
    "        temp = i\n",
    "        num_chains += 1\n",
    "        num_atm_chn = 0\n",
    "    if temp == i:\n",
    "        num_atm_chn += 1"
   ]
  },
  {
   "cell_type": "code",
   "execution_count": 227,
   "metadata": {},
   "outputs": [],
   "source": [
    "#Calculate centers of mass for each chain\n",
    "chainid, xa, ya, za = np.array(df['Chain ID']), np.array(df['X']), np.array(df['Y']), np.array(df['Z'])\n",
    "length = len(chainid)\n",
    "comx, comy, comz = [], [], []\n",
    "for i in range(num_chains):\n",
    "    sumx, sumy, sumz = 0, 0, 0\n",
    "    for j in range(length):\n",
    "        if chainid[j] == all_chain_IDs[i]:\n",
    "            sumx += (xa[j])\n",
    "            sumy += (ya[j])\n",
    "            sumz += (za[j])\n",
    "    comx.append(sumx/num_atm_chn)\n",
    "    comy.append(sumy/num_atm_chn)\n",
    "    comz.append(sumz/num_atm_chn)"
   ]
  },
  {
   "cell_type": "markdown",
   "metadata": {},
   "source": [
    "---\n",
    "Define Function\n",
    "\n",
    "---"
   ]
  },
  {
   "cell_type": "code",
   "execution_count": 228,
   "metadata": {},
   "outputs": [],
   "source": [
    "def get_dist(x2,x1,y2,y1,z2,z1):\n",
    "    return np.sqrt((x2-x1)**2+(y2-y1)**2+(z2-z1)**2)"
   ]
  },
  {
   "cell_type": "markdown",
   "metadata": {},
   "source": [
    "---\n",
    "# Calculate H-Bonds \n",
    "\n",
    "---"
   ]
  },
  {
   "cell_type": "code",
   "execution_count": 229,
   "metadata": {},
   "outputs": [],
   "source": [
    "#Calculate all backbone-backbone h-bonds (Nikos Version)\n",
    "nama, resida, resn = df['Atom Name'], df['Residue Number'], df['Residue Name']\n",
    "dist = []\n",
    "radius = []\n",
    "#tilt = []\n",
    "chain_ID_H = []\n",
    "chain_ID_O = []\n",
    "residue_number_H = []\n",
    "residue_number_O = []\n",
    "residue_name_H = []\n",
    "residue_name_O = []\n",
    "atom_name_H = []\n",
    "atom_name_O = []\n",
    "#start = time.time()\n",
    "for i in range(num_chains):\n",
    "    for j in range(num_chains):\n",
    "        diffcomx=comx[i]-comx[j]\n",
    "        diffcomy=comy[i]-comy[j]\n",
    "        diffcomz=comz[i]-comz[j]\n",
    "        diffcom=np.sqrt(diffcomx**2+diffcomy**2+diffcomz**2)\n",
    "        if diffcom>0 and diffcom<5.2:\n",
    "            for k in range(length):\n",
    "                if nama[k][1:3]=='H ' and chainid[k]==all_chain_IDs[i]:\n",
    "                        for l in range(length):\n",
    "                            if nama[l][1:3]=='O ' and chainid[l]==all_chain_IDs[j] and resida[l]==resida[k]-1 and 1.6<get_dist(xa[k],xa[l],ya[k],ya[l],za[k],za[l])<2.6:\n",
    "                                dist.append(get_dist(xa[k],xa[l],ya[k],ya[l],za[k],za[l]))\n",
    "                                radius.append(np.sqrt(((xa[k]**2+((ya[k])**2)))))\n",
    "                                if ((abs((np.abs(za[k]-za[l]))/get_dist(xa[k],xa[l],ya[k],ya[l],za[k],za[l])))/1.24 > 1) :\n",
    "                                    print((abs((np.abs(za[k]-za[l]))/get_dist(xa[k],xa[l],ya[k],ya[l],za[k],za[l]))))\n",
    "                                #tilt.append((180/np.pi)*np.arccos(((np.abs(za[k]-za[l]))/get_dist(xa[k],xa[l],ya[k],ya[l],za[k],za[l]))))\n",
    "                                chain_ID_H.append(chainid[k])\n",
    "                                chain_ID_O.append(chainid[l])\n",
    "                                residue_number_H.append(resida[k])\n",
    "                                residue_number_O.append(resida[l])\n",
    "                                residue_name_H.append(resn[k])\n",
    "                                residue_name_O.append(resn[l])\n",
    "                                atom_name_H.append(nama[k])\n",
    "                                atom_name_O.append(nama[l])\n",
    "\n",
    "#elapsed_time_fl = (time.time() - start)\n",
    "#print(elapsed_time_fl)"
   ]
  },
  {
   "cell_type": "markdown",
   "metadata": {},
   "source": [
    "___\n",
    "\n",
    "# Calculate H-bond Tilts\n",
    "___"
   ]
  },
  {
   "cell_type": "code",
   "execution_count": 230,
   "metadata": {},
   "outputs": [],
   "source": [
    "#Calculate the \"tilt\" of each residue by measuring backbone carbonyl bond vector magnitude on X, Y plane\n",
    "CO_length=0\n",
    "CO_tilt=[]\n",
    "CO_radius=[]\n",
    "CO_chainid=[]\n",
    "CO_residue_number=[]\n",
    "CO_residue_name=[]\n",
    "for i in range(length):\n",
    "    if nama[i]==' C   ':\n",
    "        CO_length = np.sqrt((xa[i+1]-xa[i])**2+(ya[i+1]-ya[i])**2+(za[i+1]-za[i])**2)\n",
    "        CO_tilt.append(90-(180/3.14)*np.arccos((np.sqrt((xa[i+1]-xa[i])**2+(ya[i+1]-ya[i])**2))/CO_length)) #changed /1.23 to /1.24\n",
    "        CO_radius.append(np.sqrt(xa[i]**2+ya[i]**2))\n",
    "        CO_chainid.append(chainid[i])\n",
    "        CO_residue_number.append(resida[i])\n",
    "        CO_residue_name.append(resn[i])"
   ]
  },
  {
   "cell_type": "code",
   "execution_count": 231,
   "metadata": {},
   "outputs": [],
   "source": [
    "#Assign a tilt to each h-bond identified above\n",
    "h_bond_tilt=[]\n",
    "for i in range(len(dist)):\n",
    "    #print(CO_residue_number[i])\n",
    "    for j in range(len(CO_radius)):\n",
    "        if CO_residue_number[j]==residue_number_O[i] and CO_residue_name[j]==residue_name_O[i] and CO_chainid[j]==chain_ID_O[i]:\n",
    "            h_bond_tilt.append(CO_tilt[j])"
   ]
  },
  {
   "cell_type": "code",
   "execution_count": 232,
   "metadata": {
    "scrolled": true
   },
   "outputs": [],
   "source": [
    "#print(len(radius),len(dist),len(h_bond_tilt),len(atom_name_H),len(residue_name_H),len(chain_ID_H),len(residue_number_H),len(atom_name_O),len(residue_name_O),len(chain_ID_O),len(residue_number_O))\n",
    "#for i in range(len(dist)):\n",
    "#    print(radius[i],dist[i],h_bond_tilt[i],atom_name_H[i],residue_name_H[i],chain_ID_H[i],residue_number_H[i],atom_name_O[i], residue_name_O[i],chain_ID_O[i],residue_number_O[i])"
   ]
  },
  {
   "cell_type": "markdown",
   "metadata": {},
   "source": [
    "# Contruct Pandas Dataframe with H-bond information"
   ]
  },
  {
   "cell_type": "code",
   "execution_count": 233,
   "metadata": {},
   "outputs": [],
   "source": [
    "d = {'radius':radius,'dist': dist,'tilt': h_bond_tilt,'atom_name_H': atom_name_H,'residue_name_H': residue_name_H,'chain_ID_H': chain_ID_H,'residue_number_H': residue_number_H,'atom_name_O': atom_name_O, 'residue_name_O': residue_name_O,'chain_ID_O': chain_ID_O,'residue_number_O': residue_number_O}\n",
    "h_bonds = pd.DataFrame(d)"
   ]
  },
  {
   "cell_type": "markdown",
   "metadata": {},
   "source": [
    "# Add H and O structure relationships to H-Bonds Object"
   ]
  },
  {
   "cell_type": "code",
   "execution_count": 234,
   "metadata": {},
   "outputs": [],
   "source": [
    "HnO_struc = []\n",
    "h_bond_uncertainties = []\n",
    "for i in range(len(h_bonds)):\n",
    "    break_bi = 0\n",
    "    temp = []\n",
    "    temp2 = []\n",
    "    for j in range(len(df)):\n",
    "        if h_bonds['residue_number_O'][i] == df['Residue Number'][j]:\n",
    "            if 'CA' in df['Atom Name'][j]:\n",
    "                temp.append(ast.literal_eval(df['structure'][j]))\n",
    "                temp2.append(df_uncert['Uncertainty'][j])\n",
    "        if h_bonds['residue_number_H'][i] == df['Residue Number'][j]:\n",
    "            if 'CA' in df['Atom Name'][j]:\n",
    "                temp.append(ast.literal_eval(df['structure'][j]))\n",
    "                temp2.append(df_uncert['Uncertainty'][j])\n",
    "                break_bi = 1\n",
    "        if break_bi == 1:\n",
    "            break\n",
    "    HnO_struc.append(temp) \n",
    "    if len(temp2) > 1:\n",
    "        temp2 = np.sqrt(temp2[0]**2 + temp2[1]**2)\n",
    "    h_bond_uncertainties.append(temp2)\n",
    "    \n",
    "h_bonds['H & O Strucs'] = HnO_struc\n",
    "h_bonds['Uncertainty'] = h_bond_uncertainties"
   ]
  },
  {
   "cell_type": "markdown",
   "metadata": {},
   "source": [
    "# Save the Data Frames"
   ]
  },
  {
   "cell_type": "code",
   "execution_count": 235,
   "metadata": {},
   "outputs": [],
   "source": [
    "df.to_csv(f'{outpath}/{sample_name}' + '.datatable.csv', index=False)\n",
    "h_bonds.to_csv(f'{outpath}/{sample_name}' + str(\".hbonds.csv\"), index=False)"
   ]
  },
  {
   "cell_type": "markdown",
   "metadata": {},
   "source": [
    "\n",
    "--------------\n",
    "\n",
    "--------------\n",
    "\n",
    "--------------"
   ]
  },
  {
   "cell_type": "markdown",
   "metadata": {},
   "source": [
    "# Plotting"
   ]
  },
  {
   "cell_type": "code",
   "execution_count": 236,
   "metadata": {},
   "outputs": [],
   "source": [
    "colors = []\n",
    "colors_onlyBB = []\n",
    "radius_onlyBB = []\n",
    "dist_onlyBB = []\n",
    "tilt_onlyBB = []\n",
    "uncert_onlyBB = []\n",
    "for i in range(len(h_bonds)):\n",
    "    if h_bonds['H & O Strucs'][i] == [['B-Strand'], ['B-Strand']]:\n",
    "        colors.append('red')\n",
    "        colors_onlyBB.append('red')\n",
    "        radius_onlyBB.append(h_bonds['radius'][i])\n",
    "        dist_onlyBB.append(h_bonds['dist'][i])\n",
    "        tilt_onlyBB.append(h_bonds['tilt'][i])\n",
    "        uncert_onlyBB.append(h_bonds['Uncertainty'][i])\n",
    "    else:\n",
    "        colors.append('blue')"
   ]
  },
  {
   "cell_type": "code",
   "execution_count": 237,
   "metadata": {
    "scrolled": true
   },
   "outputs": [
    {
     "data": {
      "image/png": "[encoded data removed]",
      "text/plain": [
       "<Figure size 1080x360 with 2 Axes>"
      ]
     },
     "metadata": {},
     "output_type": "display_data"
    }
   ],
   "source": [
    "figsize = (15,5)\n",
    "columns = 2\n",
    "rows = 1\n",
    "\n",
    "fig, ax = plt.subplots(rows, columns, figsize=figsize, constrained_layout=True)\n",
    "fig.suptitle(\"All Relationships & Fits\")\n",
    "\n",
    "#Plot all Radius vs Distance\n",
    "ax[0].scatter(h_bonds['radius'], h_bonds['dist'], c=colors)\n",
    "ax[0].legend(['Red = Beta-Beta, Blue = else'], frameon=False, loc='upper right')\n",
    "#ax[0].set_title(filename, fontsize=15)\n",
    "ax[0].set_xlabel(\"Radius\", fontsize=15)\n",
    "ax[0].set_ylabel(\"Dist\", fontsize=15)\n",
    "\n",
    "#Plot all Radius vs Tilt\n",
    "ax[1].scatter(h_bonds['radius'], h_bonds['tilt'], c=colors)\n",
    "ax[1].legend(['Red = Beta-Beta, Blue = else'], frameon=False, loc='upper right')\n",
    "#ax[1].set_title(filename, fontsize=15)\n",
    "ax[1].set_xlabel(\"Radius\", fontsize=15)\n",
    "ax[1].set_ylabel(\"Tilt\", fontsize=15)\n",
    "\n",
    "plt.show() "
   ]
  },
  {
   "cell_type": "code",
   "execution_count": 238,
   "metadata": {},
   "outputs": [],
   "source": [
    "#figsize = (15,5)\n",
    "#columns = 2\n",
    "#rows = 1\n",
    "#\n",
    "#fig, ax = plt.subplots(rows, columns, figsize=figsize, constrained_layout=True)\n",
    "#fig.suptitle(\"All Relationships & Fits\")\n",
    "#\n",
    "##Plot Beta-Beta radius vs. dsitance w/ quadratic fit \n",
    "#[a, b, c] = np.polyfit(radius_onlyBB, dist_onlyBB, 2)\n",
    "#x2d = np.linspace(0,50,100)\n",
    "#y2d = a*(x2d**2) + b*x2d + c\n",
    "#\n",
    "#[a, b] = np.polyfit(radius_onlyBB, dist_onlyBB, 1)\n",
    "#x1d = np.linspace(0,50,100)\n",
    "#y1d = a*x1d + b\n",
    "#\n",
    "#ax[0].scatter(radius_onlyBB, dist_onlyBB, c=colors_onlyBB)\n",
    "#ax[0].plot(x2d, y2d)\n",
    "#ax[0].set_title(f'{filename} only Beta-Beta', fontsize=15)\n",
    "#ax[0].set_xlabel(\"Radius\", fontsize=15)\n",
    "#ax[0].set_ylabel(\"Dist\", fontsize=15)\n",
    "#\n",
    "##Plot Beta-Beta Radius vs Tilt w/ linear fit\n",
    "#[a, b, c] = np.polyfit(radius_onlyBB, tilt_onlyBB, 2)\n",
    "#x2d = np.linspace(0,50,100)\n",
    "#y2d = a*(x2d**2) + b*x2d + c\n",
    "#\n",
    "#[a, b] = np.polyfit(radius_onlyBB, tilt_onlyBB, 1)\n",
    "#x1d = np.linspace(0,50,100)\n",
    "#y1d = a*x1d + b\n",
    "#\n",
    "#ax[1].scatter(radius_onlyBB, tilt_onlyBB, c=colors_onlyBB)\n",
    "#ax[1].plot(x1d, y1d)\n",
    "#ax[1].set_title(f'{filename} only Beta-Beta', fontsize=15)\n",
    "#ax[1].set_xlabel(\"Radius\", fontsize=15)\n",
    "#ax[1].set_ylabel(\"Tilt\", fontsize=15)\n",
    "#\n",
    "#plt.show() "
   ]
  },
  {
   "cell_type": "markdown",
   "metadata": {},
   "source": [
    "# Weighting linearly or with uncertainty"
   ]
  },
  {
   "cell_type": "code",
   "execution_count": 239,
   "metadata": {},
   "outputs": [],
   "source": [
    "##Linear Weighting\n",
    "#def linear_weight(radius):\n",
    "#    return (1-(1/radius))\n",
    "#\n",
    "#dist_err = []\n",
    "#for rad in radius_onlyBB:\n",
    "#    dist_err.append(.0005*linear_weight(rad))\n",
    "##derr = np.array(radius_onlyBB)*np.array(dist_err)\n",
    "#\n",
    "##Uncertainty\n",
    "#derr = uncert_onlyBB"
   ]
  },
  {
   "cell_type": "code",
   "execution_count": 240,
   "metadata": {},
   "outputs": [],
   "source": [
    "#def curve(x, a, b, c):\n",
    "#    return a*(x**2) + b*x + c\n",
    "#\n",
    "#x = radius_onlyBB\n",
    "#y = dist_onlyBB\n",
    "#plt.errorbar(x, y, yerr=derr, fmt=\".\", label=\"Data\")\n",
    "#popt, pcov = sp.curve_fit(curve, x, y, sigma=derr)\n",
    "#\n",
    "#print(\"a =\", popt[0], \"+/-\", pcov[0,0]**0.5)\n",
    "#print(\"b =\", popt[1], \"+/-\", pcov[1,1]**0.5)\n",
    "#print(\"c =\", popt[2], \"+/-\", pcov[2,2]**0.5)\n",
    "#print('Weighted fit parameters:', popt)\n",
    "#print('Covariance matrix:'); print(pcov)\n",
    "#\n",
    "#rangerad = np.linspace(0, 50)\n",
    "#plt.plot(curve(rangerad, popt[0], popt[1], popt[2]), label=\"Fit\")\n",
    "#\n",
    "#\n",
    "##Graphics\n",
    "#plt.title(\"Radius vs. H-bond Distance\")\n",
    "#plt.xlabel(\"Radius (angstroms)\")\n",
    "#plt.ylabel(\"H-bond Distance (angstroms)\")\n",
    "#plt.legend(loc='upper right')\n",
    "##plt.savefig('/Users/NikosMynhier/Desktop/X_vs_lnI_Graph')\n",
    "#plt.show()"
   ]
  },
  {
   "cell_type": "markdown",
   "metadata": {},
   "source": [
    "# To Do\n",
    "- for each line in hbond df append columns for the strucutre of the H residue and the O residue.\n",
    "- color code each permutation of structures on either side of the H-bond, 4 options for H atom and 4 for O makes 16 potential structure relationship permutations.\n",
    "- plot rad v dist with color, specifically look at if you see the positive exponential relationship david predicts with the b-sheet/b-sheet structure pair permutation."
   ]
  },
  {
   "cell_type": "code",
   "execution_count": null,
   "metadata": {},
   "outputs": [],
   "source": []
  }
 ],
 "metadata": {
  "kernelspec": {
   "display_name": "Python 3",
   "language": "python",
   "name": "python3"
  },
  "language_info": {
   "codemirror_mode": {
    "name": "ipython",
    "version": 3
   },
   "file_extension": ".py",
   "mimetype": "text/x-python",
   "name": "python",
   "nbconvert_exporter": "python",
   "pygments_lexer": "ipython3",
   "version": "3.8.3"
  }
 },
 "nbformat": 4,
 "nbformat_minor": 4
}
